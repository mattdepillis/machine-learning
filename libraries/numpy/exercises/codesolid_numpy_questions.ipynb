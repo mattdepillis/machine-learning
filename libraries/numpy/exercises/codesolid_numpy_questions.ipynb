{
 "cells": [
  {
   "cell_type": "markdown",
   "metadata": {},
   "source": [
    "# Source and Imports\n",
    "\n",
    "The following practice questions are documented in (NumPy Examples — Practice Questions Make You an Expert)[https://codesolid.com/numpy-practice-questions-to-make-you-an-expert/] by John Lockwood."
   ]
  },
  {
   "cell_type": "code",
   "execution_count": 1,
   "metadata": {},
   "outputs": [],
   "source": [
    "# imports\n",
    "import numpy as np"
   ]
  },
  {
   "cell_type": "markdown",
   "metadata": {},
   "source": [
    "# Creating Simple One-Dimensional NumPy Arrays"
   ]
  },
  {
   "cell_type": "code",
   "execution_count": 15,
   "metadata": {},
   "outputs": [
    {
     "data": {
      "text/plain": [
       "array([ 10,  20,  30,  40,  50,  60,  70,  80,  90, 100])"
      ]
     },
     "execution_count": 15,
     "metadata": {},
     "output_type": "execute_result"
    }
   ],
   "source": [
    "\"\"\"\n",
    "1. Using a NumPy function, how would you create a one-dimensional NumPy array of the numbers from 10 to 100, counting by 10?\n",
    "\"\"\"\n",
    "\n",
    "# custom solution -- list comprehension\n",
    "np.array([num for num in range(10, 101, 10)])\n",
    "\n",
    "# proposed solution -- np.arange, which is like python range (start, stop, skip)\n",
    "np.array(np.arange(10, 110, 10))"
   ]
  },
  {
   "cell_type": "code",
   "execution_count": 22,
   "metadata": {},
   "outputs": [
    {
     "name": "stdout",
     "output_type": "stream",
     "text": [
      "['A', 'B', 'C', 'D', 'E', 'F', 'G', 'H', 'I', 'J', 'K', 'L', 'M', 'N', 'O', 'P', 'Q', 'R', 'S', 'T', 'U', 'V', 'W', 'X', 'Y', 'Z']\n"
     ]
    },
    {
     "data": {
      "text/plain": [
       "array(['A', 'B', 'C', 'D', 'E', 'F', 'G', 'H', 'I', 'J', 'K', 'L', 'M',\n",
       "       'N', 'O', 'P', 'Q', 'R', 'S', 'T', 'U', 'V', 'W', 'X', 'Y', 'Z'],\n",
       "      dtype='<U1')"
      ]
     },
     "execution_count": 22,
     "metadata": {},
     "output_type": "execute_result"
    }
   ],
   "source": [
    "\"\"\"\n",
    "4. How might you create a NumPy array of the capital letters, A-Z?\n",
    "\"\"\"\n",
    "# custom solution\n",
    "print([chr(char) for char in range(65, 91)])\n",
    "\n",
    "# recommended solution\n",
    "from string import ascii_uppercase\n",
    "np.array(list(ascii_uppercase))"
   ]
  },
  {
   "cell_type": "code",
   "execution_count": 23,
   "metadata": {},
   "outputs": [
    {
     "data": {
      "text/plain": [
       "array([0., 0., 0., 0., 0., 0., 0., 0., 0., 0.])"
      ]
     },
     "execution_count": 23,
     "metadata": {},
     "output_type": "execute_result"
    }
   ],
   "source": [
    "\"\"\"\n",
    "5. How would you create a ten-element NumPy array object of all zeros?\n",
    "\"\"\"\n",
    "# my solution\n",
    "np.zeros(10)"
   ]
  },
  {
   "cell_type": "code",
   "execution_count": 28,
   "metadata": {},
   "outputs": [
    {
     "name": "stdout",
     "output_type": "stream",
     "text": [
      "<U1\n",
      "float64\n"
     ]
    }
   ],
   "source": [
    "\"\"\"\n",
    "7. What are the data types of the numpy array contents instantiated in #4 and #5?\n",
    "\"\"\"\n",
    "\n",
    "# NOTE: accessing .dtype on a numpy array accesses the datatype of its containing items, not the array itself.\n",
    "\n",
    "# 4\n",
    "arr = np.array(list(ascii_uppercase))\n",
    "# print(type(arr[0]))\n",
    "print(arr.dtype) # <U1 - unicode string of maximum length 1\n",
    "\n",
    "# 5\n",
    "df = np.zeros(10)\n",
    "print(df.dtype) # float64"
   ]
  },
  {
   "cell_type": "code",
   "execution_count": null,
   "metadata": {},
   "outputs": [],
   "source": []
  }
 ],
 "metadata": {
  "kernelspec": {
   "display_name": "python3.10",
   "language": "python",
   "name": "python3"
  },
  "language_info": {
   "codemirror_mode": {
    "name": "ipython",
    "version": 3
   },
   "file_extension": ".py",
   "mimetype": "text/x-python",
   "name": "python",
   "nbconvert_exporter": "python",
   "pygments_lexer": "ipython3",
   "version": "3.11.4"
  },
  "orig_nbformat": 4
 },
 "nbformat": 4,
 "nbformat_minor": 2
}
